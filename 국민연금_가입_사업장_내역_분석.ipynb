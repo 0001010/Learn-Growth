{
  "nbformat": 4,
  "nbformat_minor": 0,
  "metadata": {
    "colab": {
      "name": "국민연금 가입 사업장 내역 분석.ipynb",
      "provenance": [],
      "collapsed_sections": [],
      "authorship_tag": "ABX9TyOYx+UZbcRvBO56U2YmbgLT"
    },
    "kernelspec": {
      "name": "python3",
      "display_name": "Python 3"
    },
    "language_info": {
      "name": "python"
    }
  },
  "cells": [
    {
      "cell_type": "code",
      "metadata": {
        "colab": {
          "base_uri": "https://localhost:8080/"
        },
        "id": "PCH0NhQsLRmr",
        "outputId": "992d9cbf-6121-46c8-c022-05163ae1f962"
      },
      "source": [
        "from google.colab import drive\n",
        "drive.mount('/content/drive')"
      ],
      "execution_count": 58,
      "outputs": [
        {
          "output_type": "stream",
          "name": "stdout",
          "text": [
            "Drive already mounted at /content/drive; to attempt to forcibly remount, call drive.mount(\"/content/drive\", force_remount=True).\n"
          ]
        }
      ]
    },
    {
      "cell_type": "code",
      "metadata": {
        "id": "oT-aSegRC6ms"
      },
      "source": [
        "#!sudo apt-get install -y fonts-nanum\n",
        "#!sudo fc-cache -fv\n",
        "#!rm ~/.cache/matplotlib -rf"
      ],
      "execution_count": null,
      "outputs": []
    },
    {
      "cell_type": "code",
      "metadata": {
        "colab": {
          "base_uri": "https://localhost:8080/",
          "height": 243
        },
        "id": "wgL1Dka1MTk_",
        "outputId": "f4191f43-3331-4c2f-c549-f8cd7f9711a9"
      },
      "source": [
        "import pandas as pd\n",
        "import matplotlib.pyplot as plt\n",
        "import seaborn as sns\n",
        "plt.rc('font', family='NanumBarunGothic') \n",
        "\n",
        "total_data = pd.DataFrame()\n",
        "\n",
        "for i in range(2, 8):\n",
        "  data = pd.read_csv('/content/drive/MyDrive/data/국민연금 가입 사업장 내역 2021년 '+str(i)+'월.csv', encoding = 'cp949')\n",
        "\n",
        "  new_cols = []\n",
        "\n",
        "  for w in data.columns:\n",
        "    new_col = w.strip()\n",
        "    new_cols.append(new_col)\n",
        "\n",
        "  data.columns = new_cols\n",
        "\n",
        "  if i<7:\n",
        "    data.drop(['사업자등록번호', '사업장가입상태코드 1:등록2:탈퇴', '우편번호', '사업장도로명상세주소', '고객행정동주소코드', '법정동주소광역시도코드', '법정동주소광역시시군구코드', '법정동주소광역시시군구읍면동코드',\n",
        "              '사업장업종코드', '사업장업종코드명', '적용일자', '재등록일자', '탈퇴일자'], axis = 1, inplace = True)\n",
        "    data.columns = ['기준월', '회사명', '주소', '법정동코드', '사업형태', '인원수', '당월고지금액', '신규자수', '탈퇴자수']\n",
        "\n",
        "  else:\n",
        "    data.drop(['사업자등록번호', '사업장가입상태코드 1 등록 2 탈퇴', '우편번호', '사업장도로명상세주소', '고객행정동주소코드', '법정동주소광역시도코드', '법정동주소광역시시군구코드', '법정동주소광역시시군구읍면동코드',\n",
        "              '사업장업종코드', '사업장업종코드명', '적용일자', '재등록일자', '탈퇴일자'], axis = 1, inplace = True)\n",
        "    data.columns = ['기준월', '회사명', '주소', '법정동코드', '사업형태', '인원수', '당월고지금액', '신규자수', '탈퇴자수']\n",
        "  \n",
        "  total_data = pd.concat([total_data, data])\n",
        "\n",
        "total_data.head()"
      ],
      "execution_count": 59,
      "outputs": [
        {
          "output_type": "stream",
          "name": "stderr",
          "text": [
            "/usr/local/lib/python3.7/dist-packages/IPython/core/interactiveshell.py:3173: DtypeWarning: Columns (13) have mixed types.Specify dtype option on import or set low_memory=False.\n",
            "  interactivity=interactivity, compiler=compiler, result=result)\n"
          ]
        },
        {
          "output_type": "execute_result",
          "data": {
            "text/html": [
              "<div>\n",
              "<style scoped>\n",
              "    .dataframe tbody tr th:only-of-type {\n",
              "        vertical-align: middle;\n",
              "    }\n",
              "\n",
              "    .dataframe tbody tr th {\n",
              "        vertical-align: top;\n",
              "    }\n",
              "\n",
              "    .dataframe thead th {\n",
              "        text-align: right;\n",
              "    }\n",
              "</style>\n",
              "<table border=\"1\" class=\"dataframe\">\n",
              "  <thead>\n",
              "    <tr style=\"text-align: right;\">\n",
              "      <th></th>\n",
              "      <th>기준월</th>\n",
              "      <th>회사명</th>\n",
              "      <th>주소</th>\n",
              "      <th>법정동코드</th>\n",
              "      <th>사업형태</th>\n",
              "      <th>인원수</th>\n",
              "      <th>당월고지금액</th>\n",
              "      <th>신규자수</th>\n",
              "      <th>탈퇴자수</th>\n",
              "    </tr>\n",
              "  </thead>\n",
              "  <tbody>\n",
              "    <tr>\n",
              "      <th>0</th>\n",
              "      <td>2021-01</td>\n",
              "      <td>우성기전(주)</td>\n",
              "      <td>경기도 광주시 도척면</td>\n",
              "      <td>4161033025</td>\n",
              "      <td>1</td>\n",
              "      <td>5</td>\n",
              "      <td>792720</td>\n",
              "      <td>0</td>\n",
              "      <td>0</td>\n",
              "    </tr>\n",
              "    <tr>\n",
              "      <th>1</th>\n",
              "      <td>2021-01</td>\n",
              "      <td>서능공원묘지운영회(재)</td>\n",
              "      <td>경기도 포천시 내촌면</td>\n",
              "      <td>4165032022</td>\n",
              "      <td>1</td>\n",
              "      <td>11</td>\n",
              "      <td>3069400</td>\n",
              "      <td>0</td>\n",
              "      <td>0</td>\n",
              "    </tr>\n",
              "    <tr>\n",
              "      <th>2</th>\n",
              "      <td>2021-01</td>\n",
              "      <td>노들새마을금고</td>\n",
              "      <td>서울특별시 동작구 노량진동</td>\n",
              "      <td>1159010100</td>\n",
              "      <td>1</td>\n",
              "      <td>13</td>\n",
              "      <td>4408620</td>\n",
              "      <td>0</td>\n",
              "      <td>0</td>\n",
              "    </tr>\n",
              "    <tr>\n",
              "      <th>3</th>\n",
              "      <td>2021-01</td>\n",
              "      <td>유창성업(주)</td>\n",
              "      <td>인천광역시 서구 오류동</td>\n",
              "      <td>2826011900</td>\n",
              "      <td>1</td>\n",
              "      <td>26</td>\n",
              "      <td>5278560</td>\n",
              "      <td>0</td>\n",
              "      <td>0</td>\n",
              "    </tr>\n",
              "    <tr>\n",
              "      <th>4</th>\n",
              "      <td>2021-01</td>\n",
              "      <td>희성전자(주)</td>\n",
              "      <td>서울특별시 용산구 한남동</td>\n",
              "      <td>1117013100</td>\n",
              "      <td>1</td>\n",
              "      <td>468</td>\n",
              "      <td>197764260</td>\n",
              "      <td>0</td>\n",
              "      <td>4</td>\n",
              "    </tr>\n",
              "  </tbody>\n",
              "</table>\n",
              "</div>"
            ],
            "text/plain": [
              "       기준월           회사명              주소  ...     당월고지금액  신규자수  탈퇴자수\n",
              "0  2021-01       우성기전(주)     경기도 광주시 도척면  ...     792720     0     0\n",
              "1  2021-01  서능공원묘지운영회(재)     경기도 포천시 내촌면  ...    3069400     0     0\n",
              "2  2021-01       노들새마을금고  서울특별시 동작구 노량진동  ...    4408620     0     0\n",
              "3  2021-01       유창성업(주)    인천광역시 서구 오류동  ...    5278560     0     0\n",
              "4  2021-01       희성전자(주)   서울특별시 용산구 한남동  ...  197764260     0     4\n",
              "\n",
              "[5 rows x 9 columns]"
            ]
          },
          "metadata": {},
          "execution_count": 59
        }
      ]
    },
    {
      "cell_type": "code",
      "metadata": {
        "colab": {
          "base_uri": "https://localhost:8080/"
        },
        "id": "xZuesuafMuV7",
        "outputId": "e9761bcf-9028-4c4b-de9f-5756e58791c7"
      },
      "source": [
        "total_data.info()"
      ],
      "execution_count": 60,
      "outputs": [
        {
          "output_type": "stream",
          "name": "stdout",
          "text": [
            "<class 'pandas.core.frame.DataFrame'>\n",
            "Int64Index: 3164963 entries, 0 to 534124\n",
            "Data columns (total 9 columns):\n",
            " #   Column  Dtype \n",
            "---  ------  ----- \n",
            " 0   기준월     object\n",
            " 1   회사명     object\n",
            " 2   주소      object\n",
            " 3   법정동코드   int64 \n",
            " 4   사업형태    int64 \n",
            " 5   인원수     int64 \n",
            " 6   당월고지금액  int64 \n",
            " 7   신규자수    int64 \n",
            " 8   탈퇴자수    int64 \n",
            "dtypes: int64(6), object(3)\n",
            "memory usage: 241.5+ MB\n"
          ]
        }
      ]
    },
    {
      "cell_type": "code",
      "metadata": {
        "colab": {
          "base_uri": "https://localhost:8080/",
          "height": 415
        },
        "id": "T5RnCgqNs3r2",
        "outputId": "42f2074c-93ac-4a34-89e6-c0b1ebe06a84"
      },
      "source": [
        "import missingno as msno\n",
        "\n",
        "msno.matrix(total_data, color=(0.1, 0.2, 0.3), figsize = (10,5))"
      ],
      "execution_count": 61,
      "outputs": [
        {
          "output_type": "execute_result",
          "data": {
            "text/plain": [
              "<matplotlib.axes._subplots.AxesSubplot at 0x7fbb46703050>"
            ]
          },
          "metadata": {},
          "execution_count": 61
        },
        {
          "output_type": "display_data",
          "data": {
            "image/png": "[encoded data removed]",
            "text/plain": [
              "<Figure size 720x360 with 2 Axes>"
            ]
          },
          "metadata": {
            "needs_background": "light"
          }
        }
      ]
    },
    {
      "cell_type": "markdown",
      "metadata": {
        "id": "_s71zHjCKGk9"
      },
      "source": [
        "- Null 값은 없다 "
      ]
    },
    {
      "cell_type": "code",
      "metadata": {
        "id": "TcHe2IhpKIWk"
      },
      "source": [
        "total_data.reset_index(drop = True, inplace = True)"
      ],
      "execution_count": 62,
      "outputs": []
    },
    {
      "cell_type": "code",
      "metadata": {
        "colab": {
          "base_uri": "https://localhost:8080/",
          "height": 268
        },
        "id": "HzyS_ikg3yCG",
        "outputId": "cf3731c8-721c-4818-fd2b-456cf528ddf3"
      },
      "source": [
        "total_data.groupby(['기준월'])['신규자수'].describe()"
      ],
      "execution_count": 63,
      "outputs": [
        {
          "output_type": "execute_result",
          "data": {
            "text/html": [
              "<div>\n",
              "<style scoped>\n",
              "    .dataframe tbody tr th:only-of-type {\n",
              "        vertical-align: middle;\n",
              "    }\n",
              "\n",
              "    .dataframe tbody tr th {\n",
              "        vertical-align: top;\n",
              "    }\n",
              "\n",
              "    .dataframe thead th {\n",
              "        text-align: right;\n",
              "    }\n",
              "</style>\n",
              "<table border=\"1\" class=\"dataframe\">\n",
              "  <thead>\n",
              "    <tr style=\"text-align: right;\">\n",
              "      <th></th>\n",
              "      <th>count</th>\n",
              "      <th>mean</th>\n",
              "      <th>std</th>\n",
              "      <th>min</th>\n",
              "      <th>25%</th>\n",
              "      <th>50%</th>\n",
              "      <th>75%</th>\n",
              "      <th>max</th>\n",
              "    </tr>\n",
              "    <tr>\n",
              "      <th>기준월</th>\n",
              "      <th></th>\n",
              "      <th></th>\n",
              "      <th></th>\n",
              "      <th></th>\n",
              "      <th></th>\n",
              "      <th></th>\n",
              "      <th></th>\n",
              "      <th></th>\n",
              "    </tr>\n",
              "  </thead>\n",
              "  <tbody>\n",
              "    <tr>\n",
              "      <th>2021-01</th>\n",
              "      <td>530596.0</td>\n",
              "      <td>0.891117</td>\n",
              "      <td>13.492317</td>\n",
              "      <td>0.0</td>\n",
              "      <td>0.0</td>\n",
              "      <td>0.0</td>\n",
              "      <td>0.0</td>\n",
              "      <td>5840.0</td>\n",
              "    </tr>\n",
              "    <tr>\n",
              "      <th>2021-02</th>\n",
              "      <td>525747.0</td>\n",
              "      <td>0.941143</td>\n",
              "      <td>11.726401</td>\n",
              "      <td>0.0</td>\n",
              "      <td>0.0</td>\n",
              "      <td>0.0</td>\n",
              "      <td>1.0</td>\n",
              "      <td>5076.0</td>\n",
              "    </tr>\n",
              "    <tr>\n",
              "      <th>2021-03</th>\n",
              "      <td>518004.0</td>\n",
              "      <td>0.886999</td>\n",
              "      <td>8.537295</td>\n",
              "      <td>0.0</td>\n",
              "      <td>0.0</td>\n",
              "      <td>0.0</td>\n",
              "      <td>1.0</td>\n",
              "      <td>2698.0</td>\n",
              "    </tr>\n",
              "    <tr>\n",
              "      <th>2021-04</th>\n",
              "      <td>527270.0</td>\n",
              "      <td>1.080824</td>\n",
              "      <td>12.582808</td>\n",
              "      <td>0.0</td>\n",
              "      <td>0.0</td>\n",
              "      <td>0.0</td>\n",
              "      <td>1.0</td>\n",
              "      <td>4840.0</td>\n",
              "    </tr>\n",
              "    <tr>\n",
              "      <th>2021-05</th>\n",
              "      <td>529221.0</td>\n",
              "      <td>0.822807</td>\n",
              "      <td>10.253237</td>\n",
              "      <td>0.0</td>\n",
              "      <td>0.0</td>\n",
              "      <td>0.0</td>\n",
              "      <td>1.0</td>\n",
              "      <td>4534.0</td>\n",
              "    </tr>\n",
              "    <tr>\n",
              "      <th>2021-06</th>\n",
              "      <td>534125.0</td>\n",
              "      <td>0.877864</td>\n",
              "      <td>9.466763</td>\n",
              "      <td>0.0</td>\n",
              "      <td>0.0</td>\n",
              "      <td>0.0</td>\n",
              "      <td>1.0</td>\n",
              "      <td>3912.0</td>\n",
              "    </tr>\n",
              "  </tbody>\n",
              "</table>\n",
              "</div>"
            ],
            "text/plain": [
              "            count      mean        std  min  25%  50%  75%     max\n",
              "기준월                                                               \n",
              "2021-01  530596.0  0.891117  13.492317  0.0  0.0  0.0  0.0  5840.0\n",
              "2021-02  525747.0  0.941143  11.726401  0.0  0.0  0.0  1.0  5076.0\n",
              "2021-03  518004.0  0.886999   8.537295  0.0  0.0  0.0  1.0  2698.0\n",
              "2021-04  527270.0  1.080824  12.582808  0.0  0.0  0.0  1.0  4840.0\n",
              "2021-05  529221.0  0.822807  10.253237  0.0  0.0  0.0  1.0  4534.0\n",
              "2021-06  534125.0  0.877864   9.466763  0.0  0.0  0.0  1.0  3912.0"
            ]
          },
          "metadata": {},
          "execution_count": 63
        }
      ]
    },
    {
      "cell_type": "code",
      "metadata": {
        "colab": {
          "base_uri": "https://localhost:8080/",
          "height": 268
        },
        "id": "GsJRjJ6MLTWr",
        "outputId": "6e1929e0-07ae-4982-831d-e0571dcda0f9"
      },
      "source": [
        "total_data.groupby(['기준월'])['탈퇴자수'].describe()"
      ],
      "execution_count": 64,
      "outputs": [
        {
          "output_type": "execute_result",
          "data": {
            "text/html": [
              "<div>\n",
              "<style scoped>\n",
              "    .dataframe tbody tr th:only-of-type {\n",
              "        vertical-align: middle;\n",
              "    }\n",
              "\n",
              "    .dataframe tbody tr th {\n",
              "        vertical-align: top;\n",
              "    }\n",
              "\n",
              "    .dataframe thead th {\n",
              "        text-align: right;\n",
              "    }\n",
              "</style>\n",
              "<table border=\"1\" class=\"dataframe\">\n",
              "  <thead>\n",
              "    <tr style=\"text-align: right;\">\n",
              "      <th></th>\n",
              "      <th>count</th>\n",
              "      <th>mean</th>\n",
              "      <th>std</th>\n",
              "      <th>min</th>\n",
              "      <th>25%</th>\n",
              "      <th>50%</th>\n",
              "      <th>75%</th>\n",
              "      <th>max</th>\n",
              "    </tr>\n",
              "    <tr>\n",
              "      <th>기준월</th>\n",
              "      <th></th>\n",
              "      <th></th>\n",
              "      <th></th>\n",
              "      <th></th>\n",
              "      <th></th>\n",
              "      <th></th>\n",
              "      <th></th>\n",
              "      <th></th>\n",
              "    </tr>\n",
              "  </thead>\n",
              "  <tbody>\n",
              "    <tr>\n",
              "      <th>2021-01</th>\n",
              "      <td>530596.0</td>\n",
              "      <td>0.646149</td>\n",
              "      <td>21.034608</td>\n",
              "      <td>0.0</td>\n",
              "      <td>0.0</td>\n",
              "      <td>0.0</td>\n",
              "      <td>0.0</td>\n",
              "      <td>13957.0</td>\n",
              "    </tr>\n",
              "    <tr>\n",
              "      <th>2021-02</th>\n",
              "      <td>525747.0</td>\n",
              "      <td>0.851569</td>\n",
              "      <td>11.054090</td>\n",
              "      <td>0.0</td>\n",
              "      <td>0.0</td>\n",
              "      <td>0.0</td>\n",
              "      <td>1.0</td>\n",
              "      <td>5681.0</td>\n",
              "    </tr>\n",
              "    <tr>\n",
              "      <th>2021-03</th>\n",
              "      <td>518004.0</td>\n",
              "      <td>0.765455</td>\n",
              "      <td>11.324954</td>\n",
              "      <td>0.0</td>\n",
              "      <td>0.0</td>\n",
              "      <td>0.0</td>\n",
              "      <td>1.0</td>\n",
              "      <td>4786.0</td>\n",
              "    </tr>\n",
              "    <tr>\n",
              "      <th>2021-04</th>\n",
              "      <td>527270.0</td>\n",
              "      <td>0.684076</td>\n",
              "      <td>8.530019</td>\n",
              "      <td>0.0</td>\n",
              "      <td>0.0</td>\n",
              "      <td>0.0</td>\n",
              "      <td>1.0</td>\n",
              "      <td>3787.0</td>\n",
              "    </tr>\n",
              "    <tr>\n",
              "      <th>2021-05</th>\n",
              "      <td>529221.0</td>\n",
              "      <td>0.650996</td>\n",
              "      <td>7.268774</td>\n",
              "      <td>0.0</td>\n",
              "      <td>0.0</td>\n",
              "      <td>0.0</td>\n",
              "      <td>0.0</td>\n",
              "      <td>3214.0</td>\n",
              "    </tr>\n",
              "    <tr>\n",
              "      <th>2021-06</th>\n",
              "      <td>534125.0</td>\n",
              "      <td>0.751811</td>\n",
              "      <td>9.137947</td>\n",
              "      <td>0.0</td>\n",
              "      <td>0.0</td>\n",
              "      <td>0.0</td>\n",
              "      <td>1.0</td>\n",
              "      <td>4092.0</td>\n",
              "    </tr>\n",
              "  </tbody>\n",
              "</table>\n",
              "</div>"
            ],
            "text/plain": [
              "            count      mean        std  min  25%  50%  75%      max\n",
              "기준월                                                                \n",
              "2021-01  530596.0  0.646149  21.034608  0.0  0.0  0.0  0.0  13957.0\n",
              "2021-02  525747.0  0.851569  11.054090  0.0  0.0  0.0  1.0   5681.0\n",
              "2021-03  518004.0  0.765455  11.324954  0.0  0.0  0.0  1.0   4786.0\n",
              "2021-04  527270.0  0.684076   8.530019  0.0  0.0  0.0  1.0   3787.0\n",
              "2021-05  529221.0  0.650996   7.268774  0.0  0.0  0.0  0.0   3214.0\n",
              "2021-06  534125.0  0.751811   9.137947  0.0  0.0  0.0  1.0   4092.0"
            ]
          },
          "metadata": {},
          "execution_count": 64
        }
      ]
    },
    {
      "cell_type": "code",
      "metadata": {
        "colab": {
          "base_uri": "https://localhost:8080/",
          "height": 443
        },
        "id": "PGv9lKtkMKJi",
        "outputId": "4ed57951-d6ce-4591-f77c-27e5fbeaa6e3"
      },
      "source": [
        "sns.set_palette('Set2')\n",
        "\n",
        "f, ax = plt.subplots(figsize = (12,6))\n",
        "\n",
        "total_data.groupby(['기준월'])['신규자수', '탈퇴자수'].mean().reset_index().plot(kind = 'bar', ax = ax, x = '기준월', width = 0.35)\n",
        "\n",
        "plt.axvspan(0.5, 1.5, color = 'red', alpha = 0.12) \n",
        "plt.axvspan(2.5, 3.5, color = 'green', alpha = 0.12)\n",
        "\n",
        "plt.xticks(rotation = 0)\n",
        "plt.title('기준월별 신규자 & 탈퇴자 평균', fontsize = 15)\n",
        "plt.legend(fontsize = 12)\n",
        "plt.show()"
      ],
      "execution_count": 65,
      "outputs": [
        {
          "output_type": "stream",
          "name": "stderr",
          "text": [
            "/usr/local/lib/python3.7/dist-packages/ipykernel_launcher.py:5: FutureWarning: Indexing with multiple keys (implicitly converted to a tuple of keys) will be deprecated, use a list instead.\n",
            "  \"\"\"\n"
          ]
        },
        {
          "output_type": "display_data",
          "data": {
            "image/png": "[encoded data removed]",
            "text/plain": [
              "<Figure size 864x432 with 1 Axes>"
            ]
          },
          "metadata": {
            "needs_background": "light"
          }
        }
      ]
    },
    {
      "cell_type": "markdown",
      "metadata": {
        "id": "9SFDhQvyHF9N"
      },
      "source": [
        "- 신규자수는 상반기 채용이 한창일 4월에 가장 많이 늘어난다. 탈퇴자(퇴사자)는 주로 상반기 채용전 2월에 많이 나타나는 것을 알 수 있다.\n",
        "- 위의 describe를 살펴보면 신규자수와 탈퇴자수가 평균과 많이 차이나므로 기업들마다 인원수가 상당히 다르다"
      ]
    },
    {
      "cell_type": "code",
      "metadata": {
        "colab": {
          "base_uri": "https://localhost:8080/"
        },
        "id": "JfDysPScKtz3",
        "outputId": "8753a59d-1675-48a4-b669-6f40e416aefb"
      },
      "source": [
        "total_data.groupby(['기준월'])['신규자수'].max()"
      ],
      "execution_count": 66,
      "outputs": [
        {
          "output_type": "execute_result",
          "data": {
            "text/plain": [
              "기준월\n",
              "2021-01    5840\n",
              "2021-02    5076\n",
              "2021-03    2698\n",
              "2021-04    4840\n",
              "2021-05    4534\n",
              "2021-06    3912\n",
              "Name: 신규자수, dtype: int64"
            ]
          },
          "metadata": {},
          "execution_count": 66
        }
      ]
    },
    {
      "cell_type": "code",
      "metadata": {
        "colab": {
          "base_uri": "https://localhost:8080/",
          "height": 237
        },
        "id": "0IwnYB0LDzGo",
        "outputId": "7861dd8d-27a8-475d-98bd-c8cab019bbb0"
      },
      "source": [
        "total_data.iloc[total_data.groupby(['기준월'])['신규자수'].idxmax().to_list()]"
      ],
      "execution_count": 67,
      "outputs": [
        {
          "output_type": "execute_result",
          "data": {
            "text/html": [
              "<div>\n",
              "<style scoped>\n",
              "    .dataframe tbody tr th:only-of-type {\n",
              "        vertical-align: middle;\n",
              "    }\n",
              "\n",
              "    .dataframe tbody tr th {\n",
              "        vertical-align: top;\n",
              "    }\n",
              "\n",
              "    .dataframe thead th {\n",
              "        text-align: right;\n",
              "    }\n",
              "</style>\n",
              "<table border=\"1\" class=\"dataframe\">\n",
              "  <thead>\n",
              "    <tr style=\"text-align: right;\">\n",
              "      <th></th>\n",
              "      <th>기준월</th>\n",
              "      <th>회사명</th>\n",
              "      <th>주소</th>\n",
              "      <th>법정동코드</th>\n",
              "      <th>사업형태</th>\n",
              "      <th>인원수</th>\n",
              "      <th>당월고지금액</th>\n",
              "      <th>신규자수</th>\n",
              "      <th>탈퇴자수</th>\n",
              "    </tr>\n",
              "  </thead>\n",
              "  <tbody>\n",
              "    <tr>\n",
              "      <th>397609</th>\n",
              "      <td>2021-01</td>\n",
              "      <td>쿠팡풀필먼트서비스 유한회사</td>\n",
              "      <td>서울특별시 송파구 신천동</td>\n",
              "      <td>1171010200</td>\n",
              "      <td>1</td>\n",
              "      <td>13960</td>\n",
              "      <td>691146260</td>\n",
              "      <td>5840</td>\n",
              "      <td>13957</td>\n",
              "    </tr>\n",
              "    <tr>\n",
              "      <th>927753</th>\n",
              "      <td>2021-02</td>\n",
              "      <td>쿠팡풀필먼트서비스 유한회사</td>\n",
              "      <td>서울특별시 송파구 신천동</td>\n",
              "      <td>1171010200</td>\n",
              "      <td>1</td>\n",
              "      <td>14236</td>\n",
              "      <td>864660740</td>\n",
              "      <td>5076</td>\n",
              "      <td>5681</td>\n",
              "    </tr>\n",
              "    <tr>\n",
              "      <th>1336621</th>\n",
              "      <td>2021-03</td>\n",
              "      <td>주식회사 컬리</td>\n",
              "      <td>서울특별시 강남구 논현동</td>\n",
              "      <td>1168010800</td>\n",
              "      <td>1</td>\n",
              "      <td>3873</td>\n",
              "      <td>668693260</td>\n",
              "      <td>2698</td>\n",
              "      <td>758</td>\n",
              "    </tr>\n",
              "    <tr>\n",
              "      <th>1583586</th>\n",
              "      <td>2021-04</td>\n",
              "      <td>(주)에이디티캡스</td>\n",
              "      <td>경기도 성남시 분당구 삼평동</td>\n",
              "      <td>4113510900</td>\n",
              "      <td>1</td>\n",
              "      <td>6460</td>\n",
              "      <td>2033718920</td>\n",
              "      <td>4840</td>\n",
              "      <td>81</td>\n",
              "    </tr>\n",
              "    <tr>\n",
              "      <th>2294753</th>\n",
              "      <td>2021-05</td>\n",
              "      <td>한국문화예술교육진흥원</td>\n",
              "      <td>서울특별시 마포구 상암동</td>\n",
              "      <td>1144012700</td>\n",
              "      <td>1</td>\n",
              "      <td>4535</td>\n",
              "      <td>509706420</td>\n",
              "      <td>4534</td>\n",
              "      <td>3</td>\n",
              "    </tr>\n",
              "    <tr>\n",
              "      <th>3020049</th>\n",
              "      <td>2021-06</td>\n",
              "      <td>쿠팡풀필먼트서비스 유한회사</td>\n",
              "      <td>서울특별시 송파구 신천동</td>\n",
              "      <td>1171010200</td>\n",
              "      <td>1</td>\n",
              "      <td>12475</td>\n",
              "      <td>1766136200</td>\n",
              "      <td>3912</td>\n",
              "      <td>4092</td>\n",
              "    </tr>\n",
              "  </tbody>\n",
              "</table>\n",
              "</div>"
            ],
            "text/plain": [
              "             기준월             회사명               주소  ...      당월고지금액  신규자수   탈퇴자수\n",
              "397609   2021-01  쿠팡풀필먼트서비스 유한회사    서울특별시 송파구 신천동  ...   691146260  5840  13957\n",
              "927753   2021-02  쿠팡풀필먼트서비스 유한회사    서울특별시 송파구 신천동  ...   864660740  5076   5681\n",
              "1336621  2021-03         주식회사 컬리    서울특별시 강남구 논현동  ...   668693260  2698    758\n",
              "1583586  2021-04       (주)에이디티캡스  경기도 성남시 분당구 삼평동  ...  2033718920  4840     81\n",
              "2294753  2021-05     한국문화예술교육진흥원    서울특별시 마포구 상암동  ...   509706420  4534      3\n",
              "3020049  2021-06  쿠팡풀필먼트서비스 유한회사    서울특별시 송파구 신천동  ...  1766136200  3912   4092\n",
              "\n",
              "[6 rows x 9 columns]"
            ]
          },
          "metadata": {},
          "execution_count": 67
        }
      ]
    },
    {
      "cell_type": "markdown",
      "metadata": {
        "id": "kG0dLf25RhDC"
      },
      "source": [
        "- 월별로 신규자수가 가장 많은 회사들을 뽑아봤다.\n",
        "- 1월, 2월, 6월에 '쿠팡풀필먼트서비스 유한회사'가 가장 신규자수가 많았다.\n",
        "- 신기한건 한국문화예술교육진흥원이 5월에 4534명이나 신규자수로 등록이 되었다. 진흥원은 공공기관의 특성을 띄고있어서 신규채용이 4000명이나 되지 않을거같은데 국민연금으로 새로 가입된 사람들이 4500여명이나 된다.\t"
      ]
    },
    {
      "cell_type": "code",
      "metadata": {
        "colab": {
          "base_uri": "https://localhost:8080/"
        },
        "id": "PQvzMW3kNzAk",
        "outputId": "6ea8ea55-13d9-42c4-e354-0b543cadaac6"
      },
      "source": [
        "total_data.groupby(['기준월'])['탈퇴자수'].max()"
      ],
      "execution_count": 68,
      "outputs": [
        {
          "output_type": "execute_result",
          "data": {
            "text/plain": [
              "기준월\n",
              "2021-01    13957\n",
              "2021-02     5681\n",
              "2021-03     4786\n",
              "2021-04     3787\n",
              "2021-05     3214\n",
              "2021-06     4092\n",
              "Name: 탈퇴자수, dtype: int64"
            ]
          },
          "metadata": {},
          "execution_count": 68
        }
      ]
    },
    {
      "cell_type": "code",
      "metadata": {
        "colab": {
          "base_uri": "https://localhost:8080/",
          "height": 237
        },
        "id": "3ZayGAcvSTd6",
        "outputId": "5cb2378c-d56e-4531-ae6d-28240dd5aa5a"
      },
      "source": [
        "total_data.iloc[total_data.groupby(['기준월'])['탈퇴자수'].idxmax().to_list()]"
      ],
      "execution_count": 69,
      "outputs": [
        {
          "output_type": "execute_result",
          "data": {
            "text/html": [
              "<div>\n",
              "<style scoped>\n",
              "    .dataframe tbody tr th:only-of-type {\n",
              "        vertical-align: middle;\n",
              "    }\n",
              "\n",
              "    .dataframe tbody tr th {\n",
              "        vertical-align: top;\n",
              "    }\n",
              "\n",
              "    .dataframe thead th {\n",
              "        text-align: right;\n",
              "    }\n",
              "</style>\n",
              "<table border=\"1\" class=\"dataframe\">\n",
              "  <thead>\n",
              "    <tr style=\"text-align: right;\">\n",
              "      <th></th>\n",
              "      <th>기준월</th>\n",
              "      <th>회사명</th>\n",
              "      <th>주소</th>\n",
              "      <th>법정동코드</th>\n",
              "      <th>사업형태</th>\n",
              "      <th>인원수</th>\n",
              "      <th>당월고지금액</th>\n",
              "      <th>신규자수</th>\n",
              "      <th>탈퇴자수</th>\n",
              "    </tr>\n",
              "  </thead>\n",
              "  <tbody>\n",
              "    <tr>\n",
              "      <th>397609</th>\n",
              "      <td>2021-01</td>\n",
              "      <td>쿠팡풀필먼트서비스 유한회사</td>\n",
              "      <td>서울특별시 송파구 신천동</td>\n",
              "      <td>1171010200</td>\n",
              "      <td>1</td>\n",
              "      <td>13960</td>\n",
              "      <td>691146260</td>\n",
              "      <td>5840</td>\n",
              "      <td>13957</td>\n",
              "    </tr>\n",
              "    <tr>\n",
              "      <th>927753</th>\n",
              "      <td>2021-02</td>\n",
              "      <td>쿠팡풀필먼트서비스 유한회사</td>\n",
              "      <td>서울특별시 송파구 신천동</td>\n",
              "      <td>1171010200</td>\n",
              "      <td>1</td>\n",
              "      <td>14236</td>\n",
              "      <td>864660740</td>\n",
              "      <td>5076</td>\n",
              "      <td>5681</td>\n",
              "    </tr>\n",
              "    <tr>\n",
              "      <th>1059037</th>\n",
              "      <td>2021-03</td>\n",
              "      <td>(주)에이디티캡스</td>\n",
              "      <td>서울특별시 강남구 삼성동</td>\n",
              "      <td>1168010500</td>\n",
              "      <td>1</td>\n",
              "      <td>4786</td>\n",
              "      <td>1531886680</td>\n",
              "      <td>55</td>\n",
              "      <td>4786</td>\n",
              "    </tr>\n",
              "    <tr>\n",
              "      <th>1968077</th>\n",
              "      <td>2021-04</td>\n",
              "      <td>쿠팡풀필먼트서비스 유한회사</td>\n",
              "      <td>서울특별시 송파구 신천동</td>\n",
              "      <td>1171010200</td>\n",
              "      <td>1</td>\n",
              "      <td>11684</td>\n",
              "      <td>709549960</td>\n",
              "      <td>4266</td>\n",
              "      <td>3787</td>\n",
              "    </tr>\n",
              "    <tr>\n",
              "      <th>2492610</th>\n",
              "      <td>2021-05</td>\n",
              "      <td>쿠팡풀필먼트서비스 유한회사</td>\n",
              "      <td>서울특별시 송파구 신천동</td>\n",
              "      <td>1171010200</td>\n",
              "      <td>1</td>\n",
              "      <td>11777</td>\n",
              "      <td>715182600</td>\n",
              "      <td>3880</td>\n",
              "      <td>3214</td>\n",
              "    </tr>\n",
              "    <tr>\n",
              "      <th>3020049</th>\n",
              "      <td>2021-06</td>\n",
              "      <td>쿠팡풀필먼트서비스 유한회사</td>\n",
              "      <td>서울특별시 송파구 신천동</td>\n",
              "      <td>1171010200</td>\n",
              "      <td>1</td>\n",
              "      <td>12475</td>\n",
              "      <td>1766136200</td>\n",
              "      <td>3912</td>\n",
              "      <td>4092</td>\n",
              "    </tr>\n",
              "  </tbody>\n",
              "</table>\n",
              "</div>"
            ],
            "text/plain": [
              "             기준월             회사명             주소  ...      당월고지금액  신규자수   탈퇴자수\n",
              "397609   2021-01  쿠팡풀필먼트서비스 유한회사  서울특별시 송파구 신천동  ...   691146260  5840  13957\n",
              "927753   2021-02  쿠팡풀필먼트서비스 유한회사  서울특별시 송파구 신천동  ...   864660740  5076   5681\n",
              "1059037  2021-03       (주)에이디티캡스  서울특별시 강남구 삼성동  ...  1531886680    55   4786\n",
              "1968077  2021-04  쿠팡풀필먼트서비스 유한회사  서울특별시 송파구 신천동  ...   709549960  4266   3787\n",
              "2492610  2021-05  쿠팡풀필먼트서비스 유한회사  서울특별시 송파구 신천동  ...   715182600  3880   3214\n",
              "3020049  2021-06  쿠팡풀필먼트서비스 유한회사  서울특별시 송파구 신천동  ...  1766136200  3912   4092\n",
              "\n",
              "[6 rows x 9 columns]"
            ]
          },
          "metadata": {},
          "execution_count": 69
        }
      ]
    },
    {
      "cell_type": "markdown",
      "metadata": {
        "id": "gHwMje8vSb6-"
      },
      "source": [
        "- 탈퇴자수이다. 위에서 봤듯이 '쿠팡풀필먼트서비스 유한회사'가 신규자로 많이 등록이 되었는데 원인?이라고 봐야할까 탈퇴자수가 엄청 많다. 그래서 신규로 많이 채용하는것 같다.\n",
        "\n",
        "- 찾아보니 '쿠팡풀필먼트서비스 유한회사'는 쿠팡의 물류창고? 같은 역할을 한다고 한다. 그러다보니 사람이 많이 필요해 주기적으로 계약직 채용이 대규모로 많이 일어난다고 한다."
      ]
    },
    {
      "cell_type": "code",
      "metadata": {
        "colab": {
          "base_uri": "https://localhost:8080/",
          "height": 206
        },
        "id": "gNDxtaCpSVEp",
        "outputId": "fb2b9ce4-b8a4-4234-ec2d-fe19954547f6"
      },
      "source": [
        "total_data['인당월급'] = total_data['당월고지금액']/total_data['인원수']/9*100\n",
        "total_data.head()"
      ],
      "execution_count": 70,
      "outputs": [
        {
          "output_type": "execute_result",
          "data": {
            "text/html": [
              "<div>\n",
              "<style scoped>\n",
              "    .dataframe tbody tr th:only-of-type {\n",
              "        vertical-align: middle;\n",
              "    }\n",
              "\n",
              "    .dataframe tbody tr th {\n",
              "        vertical-align: top;\n",
              "    }\n",
              "\n",
              "    .dataframe thead th {\n",
              "        text-align: right;\n",
              "    }\n",
              "</style>\n",
              "<table border=\"1\" class=\"dataframe\">\n",
              "  <thead>\n",
              "    <tr style=\"text-align: right;\">\n",
              "      <th></th>\n",
              "      <th>기준월</th>\n",
              "      <th>회사명</th>\n",
              "      <th>주소</th>\n",
              "      <th>법정동코드</th>\n",
              "      <th>사업형태</th>\n",
              "      <th>인원수</th>\n",
              "      <th>당월고지금액</th>\n",
              "      <th>신규자수</th>\n",
              "      <th>탈퇴자수</th>\n",
              "      <th>인당월급</th>\n",
              "    </tr>\n",
              "  </thead>\n",
              "  <tbody>\n",
              "    <tr>\n",
              "      <th>0</th>\n",
              "      <td>2021-01</td>\n",
              "      <td>우성기전(주)</td>\n",
              "      <td>경기도 광주시 도척면</td>\n",
              "      <td>4161033025</td>\n",
              "      <td>1</td>\n",
              "      <td>5</td>\n",
              "      <td>792720</td>\n",
              "      <td>0</td>\n",
              "      <td>0</td>\n",
              "      <td>1.761600e+06</td>\n",
              "    </tr>\n",
              "    <tr>\n",
              "      <th>1</th>\n",
              "      <td>2021-01</td>\n",
              "      <td>서능공원묘지운영회(재)</td>\n",
              "      <td>경기도 포천시 내촌면</td>\n",
              "      <td>4165032022</td>\n",
              "      <td>1</td>\n",
              "      <td>11</td>\n",
              "      <td>3069400</td>\n",
              "      <td>0</td>\n",
              "      <td>0</td>\n",
              "      <td>3.100404e+06</td>\n",
              "    </tr>\n",
              "    <tr>\n",
              "      <th>2</th>\n",
              "      <td>2021-01</td>\n",
              "      <td>노들새마을금고</td>\n",
              "      <td>서울특별시 동작구 노량진동</td>\n",
              "      <td>1159010100</td>\n",
              "      <td>1</td>\n",
              "      <td>13</td>\n",
              "      <td>4408620</td>\n",
              "      <td>0</td>\n",
              "      <td>0</td>\n",
              "      <td>3.768051e+06</td>\n",
              "    </tr>\n",
              "    <tr>\n",
              "      <th>3</th>\n",
              "      <td>2021-01</td>\n",
              "      <td>유창성업(주)</td>\n",
              "      <td>인천광역시 서구 오류동</td>\n",
              "      <td>2826011900</td>\n",
              "      <td>1</td>\n",
              "      <td>26</td>\n",
              "      <td>5278560</td>\n",
              "      <td>0</td>\n",
              "      <td>0</td>\n",
              "      <td>2.255795e+06</td>\n",
              "    </tr>\n",
              "    <tr>\n",
              "      <th>4</th>\n",
              "      <td>2021-01</td>\n",
              "      <td>희성전자(주)</td>\n",
              "      <td>서울특별시 용산구 한남동</td>\n",
              "      <td>1117013100</td>\n",
              "      <td>1</td>\n",
              "      <td>468</td>\n",
              "      <td>197764260</td>\n",
              "      <td>0</td>\n",
              "      <td>4</td>\n",
              "      <td>4.695258e+06</td>\n",
              "    </tr>\n",
              "  </tbody>\n",
              "</table>\n",
              "</div>"
            ],
            "text/plain": [
              "       기준월           회사명              주소  ...  신규자수  탈퇴자수          인당월급\n",
              "0  2021-01       우성기전(주)     경기도 광주시 도척면  ...     0     0  1.761600e+06\n",
              "1  2021-01  서능공원묘지운영회(재)     경기도 포천시 내촌면  ...     0     0  3.100404e+06\n",
              "2  2021-01       노들새마을금고  서울특별시 동작구 노량진동  ...     0     0  3.768051e+06\n",
              "3  2021-01       유창성업(주)    인천광역시 서구 오류동  ...     0     0  2.255795e+06\n",
              "4  2021-01       희성전자(주)   서울특별시 용산구 한남동  ...     0     4  4.695258e+06\n",
              "\n",
              "[5 rows x 10 columns]"
            ]
          },
          "metadata": {},
          "execution_count": 70
        }
      ]
    },
    {
      "cell_type": "markdown",
      "metadata": {
        "id": "7cuhWlRSZLm7"
      },
      "source": [
        "- 당월고지금액이 그 회사의 국민연금 고지금액이니까 인원수로 나누면 1인당 고지금액이 나온다.\n",
        "- 보통 국민연금은 본인이 4.5% 회사가 4.5%를 가져가서 총 9%를 납부하게 된다.\n",
        "- 1인당 고지금액/9*100을 하면 국민연금 기준 1인당 평균 월급이 산출된다.(상한가가 있으므로 100%맞는 월급은 아니다. 추정치에 불과하니 참고용으로만 쓰자)\n"
      ]
    },
    {
      "cell_type": "code",
      "metadata": {
        "colab": {
          "base_uri": "https://localhost:8080/",
          "height": 590
        },
        "id": "Cbv9cQQmTq5V",
        "outputId": "a082f882-31b5-4f39-b7b8-898966d0f599"
      },
      "source": [
        "sns.set_palette('Set1')\n",
        "f, ax = plt.subplots(1,2, figsize = (18,7))\n",
        "\n",
        "sns.distplot(total_data[total_data['기준월']=='2021-06']['인당월급'], ax = ax[0])\n",
        "total_data[total_data['기준월']=='2021-06']['인당월급'].describe().plot(kind = 'box', ax = ax[1])\n",
        "\n",
        "ax[0].set_title('인당월급 분포 dist', fontsize = 15)\n",
        "ax[1].set_title('인당월급 분포 box', fontsize = 15)\n",
        "plt.show()"
      ],
      "execution_count": 71,
      "outputs": [
        {
          "output_type": "stream",
          "name": "stderr",
          "text": [
            "/usr/local/lib/python3.7/dist-packages/seaborn/distributions.py:2619: FutureWarning: `distplot` is a deprecated function and will be removed in a future version. Please adapt your code to use either `displot` (a figure-level function with similar flexibility) or `histplot` (an axes-level function for histograms).\n",
            "  warnings.warn(msg, FutureWarning)\n",
            "/usr/local/lib/python3.7/dist-packages/matplotlib/backends/backend_agg.py:214: RuntimeWarning: Glyph 8722 missing from current font.\n",
            "  font.set_text(s, 0.0, flags=flags)\n",
            "/usr/local/lib/python3.7/dist-packages/matplotlib/backends/backend_agg.py:183: RuntimeWarning: Glyph 8722 missing from current font.\n",
            "  font.set_text(s, 0, flags=flags)\n"
          ]
        },
        {
          "output_type": "display_data",
          "data": {
            "image/png": "[encoded data removed]",
            "text/plain": [
              "<Figure size 1296x504 with 2 Axes>"
            ]
          },
          "metadata": {
            "needs_background": "light"
          }
        }
      ]
    },
    {
      "cell_type": "markdown",
      "metadata": {
        "id": "-eTcNysEb1VG"
      },
      "source": [
        "- 데이터가 너무 많은 관계로 6개월치중 가장 최근인 2021년 6월 데이터를 토대로 월급 분포를 그려봤다.\n",
        "- 정규분포형에 가까운 분포를 띄고 평균적으로 200 ~ 300만원 사이에 몰려있다."
      ]
    },
    {
      "cell_type": "code",
      "metadata": {
        "colab": {
          "base_uri": "https://localhost:8080/",
          "height": 399
        },
        "id": "kWNkbv2PaU0I",
        "outputId": "dcfd3836-35b6-45fe-e9ca-de6ce9385206"
      },
      "source": [
        "total_data.groupby(['회사명'])['인당월급', '인원수'].mean().reset_index().sort_values(by = '인당월급', ascending = False).head(10)"
      ],
      "execution_count": 72,
      "outputs": [
        {
          "output_type": "stream",
          "name": "stderr",
          "text": [
            "/usr/local/lib/python3.7/dist-packages/ipykernel_launcher.py:1: FutureWarning: Indexing with multiple keys (implicitly converted to a tuple of keys) will be deprecated, use a list instead.\n",
            "  \"\"\"Entry point for launching an IPython kernel.\n"
          ]
        },
        {
          "output_type": "execute_result",
          "data": {
            "text/html": [
              "<div>\n",
              "<style scoped>\n",
              "    .dataframe tbody tr th:only-of-type {\n",
              "        vertical-align: middle;\n",
              "    }\n",
              "\n",
              "    .dataframe tbody tr th {\n",
              "        vertical-align: top;\n",
              "    }\n",
              "\n",
              "    .dataframe thead th {\n",
              "        text-align: right;\n",
              "    }\n",
              "</style>\n",
              "<table border=\"1\" class=\"dataframe\">\n",
              "  <thead>\n",
              "    <tr style=\"text-align: right;\">\n",
              "      <th></th>\n",
              "      <th>회사명</th>\n",
              "      <th>인당월급</th>\n",
              "      <th>인원수</th>\n",
              "    </tr>\n",
              "  </thead>\n",
              "  <tbody>\n",
              "    <tr>\n",
              "      <th>574068</th>\n",
              "      <td>청우종합건설（주）/일용/서하리 구거정비사업</td>\n",
              "      <td>5030000.0</td>\n",
              "      <td>3.000000</td>\n",
              "    </tr>\n",
              "    <tr>\n",
              "      <th>640617</th>\n",
              "      <td>（주）블루엠테크놀러지</td>\n",
              "      <td>5030000.0</td>\n",
              "      <td>3.000000</td>\n",
              "    </tr>\n",
              "    <tr>\n",
              "      <th>441762</th>\n",
              "      <td>주식회사동아유리/일용/검단4초등학교 신축공사 중 유리공사</td>\n",
              "      <td>5030000.0</td>\n",
              "      <td>3.000000</td>\n",
              "    </tr>\n",
              "    <tr>\n",
              "      <th>248120</th>\n",
              "      <td>벙글코리아주식회사(VungleKoreaCo. Ltd.)</td>\n",
              "      <td>5030000.0</td>\n",
              "      <td>8.000000</td>\n",
              "    </tr>\n",
              "    <tr>\n",
              "      <th>651640</th>\n",
              "      <td>（주）에이치앤인터내셔날</td>\n",
              "      <td>5030000.0</td>\n",
              "      <td>4.000000</td>\n",
              "    </tr>\n",
              "    <tr>\n",
              "      <th>381254</th>\n",
              "      <td>주식회사 가이아에이펙</td>\n",
              "      <td>5030000.0</td>\n",
              "      <td>3.000000</td>\n",
              "    </tr>\n",
              "    <tr>\n",
              "      <th>270778</th>\n",
              "      <td>삼환기업（주）/상용/청양-부여주배관</td>\n",
              "      <td>5030000.0</td>\n",
              "      <td>5.666667</td>\n",
              "    </tr>\n",
              "    <tr>\n",
              "      <th>614589</th>\n",
              "      <td>형주전력주식회사-(상용)2019년 광주전남지역본부 고흥지사 고압A공사</td>\n",
              "      <td>5030000.0</td>\n",
              "      <td>3.000000</td>\n",
              "    </tr>\n",
              "    <tr>\n",
              "      <th>129855</th>\n",
              "      <td>(주)케이에프컴스</td>\n",
              "      <td>5030000.0</td>\n",
              "      <td>3.000000</td>\n",
              "    </tr>\n",
              "    <tr>\n",
              "      <th>322860</th>\n",
              "      <td>엘레멘트에너지코리아 주식회사</td>\n",
              "      <td>5030000.0</td>\n",
              "      <td>3.333333</td>\n",
              "    </tr>\n",
              "  </tbody>\n",
              "</table>\n",
              "</div>"
            ],
            "text/plain": [
              "                                           회사명       인당월급       인원수\n",
              "574068                 청우종합건설（주）/일용/서하리 구거정비사업  5030000.0  3.000000\n",
              "640617                             （주）블루엠테크놀러지  5030000.0  3.000000\n",
              "441762         주식회사동아유리/일용/검단4초등학교 신축공사 중 유리공사  5030000.0  3.000000\n",
              "248120          벙글코리아주식회사(VungleKoreaCo. Ltd.)  5030000.0  8.000000\n",
              "651640                            （주）에이치앤인터내셔날  5030000.0  4.000000\n",
              "381254                             주식회사 가이아에이펙  5030000.0  3.000000\n",
              "270778                     삼환기업（주）/상용/청양-부여주배관  5030000.0  5.666667\n",
              "614589  형주전력주식회사-(상용)2019년 광주전남지역본부 고흥지사 고압A공사  5030000.0  3.000000\n",
              "129855                               (주)케이에프컴스  5030000.0  3.000000\n",
              "322860                         엘레멘트에너지코리아 주식회사  5030000.0  3.333333"
            ]
          },
          "metadata": {},
          "execution_count": 72
        }
      ]
    },
    {
      "cell_type": "markdown",
      "metadata": {
        "id": "GSoH2IrCgeCl"
      },
      "source": [
        "- 국민연금 기준으로 인당 월급이 가장 높은 곳 10곳을 뽑아봤는데 역시 상한가 인곳이 대부분이었다.\n",
        "- 모르는 회사가 대부분이고 대부분 인원수가 엄청 적은 회사들이다\n",
        "  - 인원수를 적절하게 자른 후에 다시 해보는것도 좋은 방법이겠다"
      ]
    },
    {
      "cell_type": "code",
      "metadata": {
        "colab": {
          "base_uri": "https://localhost:8080/",
          "height": 556
        },
        "id": "K9zoBaCUhVY4",
        "outputId": "25c50e6b-3449-482f-9a87-99ec41481b5d"
      },
      "source": [
        "a = total_data.groupby(['회사명'])['인당월급', '인원수'].mean().reset_index()\n",
        "a[a['인원수']>=100].sort_values(by = '인당월급', ascending = False).head(15)"
      ],
      "execution_count": 73,
      "outputs": [
        {
          "output_type": "stream",
          "name": "stderr",
          "text": [
            "/usr/local/lib/python3.7/dist-packages/ipykernel_launcher.py:1: FutureWarning: Indexing with multiple keys (implicitly converted to a tuple of keys) will be deprecated, use a list instead.\n",
            "  \"\"\"Entry point for launching an IPython kernel.\n"
          ]
        },
        {
          "output_type": "execute_result",
          "data": {
            "text/html": [
              "<div>\n",
              "<style scoped>\n",
              "    .dataframe tbody tr th:only-of-type {\n",
              "        vertical-align: middle;\n",
              "    }\n",
              "\n",
              "    .dataframe tbody tr th {\n",
              "        vertical-align: top;\n",
              "    }\n",
              "\n",
              "    .dataframe thead th {\n",
              "        text-align: right;\n",
              "    }\n",
              "</style>\n",
              "<table border=\"1\" class=\"dataframe\">\n",
              "  <thead>\n",
              "    <tr style=\"text-align: right;\">\n",
              "      <th></th>\n",
              "      <th>회사명</th>\n",
              "      <th>인당월급</th>\n",
              "      <th>인원수</th>\n",
              "    </tr>\n",
              "  </thead>\n",
              "  <tbody>\n",
              "    <tr>\n",
              "      <th>180065</th>\n",
              "      <td>국회사무처</td>\n",
              "      <td>5.030000e+06</td>\n",
              "      <td>170.500000</td>\n",
              "    </tr>\n",
              "    <tr>\n",
              "      <th>602212</th>\n",
              "      <td>한국항만물류협회목포</td>\n",
              "      <td>5.029494e+06</td>\n",
              "      <td>278.833333</td>\n",
              "    </tr>\n",
              "    <tr>\n",
              "      <th>602208</th>\n",
              "      <td>한국항만물류협회군산</td>\n",
              "      <td>5.029378e+06</td>\n",
              "      <td>273.333333</td>\n",
              "    </tr>\n",
              "    <tr>\n",
              "      <th>602231</th>\n",
              "      <td>한국항만물류협회포항</td>\n",
              "      <td>5.028825e+06</td>\n",
              "      <td>775.666667</td>\n",
              "    </tr>\n",
              "    <tr>\n",
              "      <th>186127</th>\n",
              "      <td>기아자동차(주)영업본부</td>\n",
              "      <td>5.028403e+06</td>\n",
              "      <td>2766.000000</td>\n",
              "    </tr>\n",
              "    <tr>\n",
              "      <th>186098</th>\n",
              "      <td>기아(주) 영업본부</td>\n",
              "      <td>5.027800e+06</td>\n",
              "      <td>2745.000000</td>\n",
              "    </tr>\n",
              "    <tr>\n",
              "      <th>100225</th>\n",
              "      <td>(주)우리금융지주</td>\n",
              "      <td>5.027300e+06</td>\n",
              "      <td>154.833333</td>\n",
              "    </tr>\n",
              "    <tr>\n",
              "      <th>580641</th>\n",
              "      <td>코리안리재보험(주)</td>\n",
              "      <td>5.025256e+06</td>\n",
              "      <td>392.166667</td>\n",
              "    </tr>\n",
              "    <tr>\n",
              "      <th>602209</th>\n",
              "      <td>한국항만물류협회당진</td>\n",
              "      <td>5.024952e+06</td>\n",
              "      <td>252.500000</td>\n",
              "    </tr>\n",
              "    <tr>\n",
              "      <th>602207</th>\n",
              "      <td>한국항만물류협회광양</td>\n",
              "      <td>5.024416e+06</td>\n",
              "      <td>523.166667</td>\n",
              "    </tr>\n",
              "    <tr>\n",
              "      <th>284</th>\n",
              "      <td>(사) 한국무역협회</td>\n",
              "      <td>5.023767e+06</td>\n",
              "      <td>283.666667</td>\n",
              "    </tr>\n",
              "    <tr>\n",
              "      <th>602227</th>\n",
              "      <td>한국항만물류협회제주</td>\n",
              "      <td>5.022793e+06</td>\n",
              "      <td>349.000000</td>\n",
              "    </tr>\n",
              "    <tr>\n",
              "      <th>602211</th>\n",
              "      <td>한국항만물류협회마산</td>\n",
              "      <td>5.018021e+06</td>\n",
              "      <td>283.833333</td>\n",
              "    </tr>\n",
              "    <tr>\n",
              "      <th>145387</th>\n",
              "      <td>(주)한국씨티은행서울지점</td>\n",
              "      <td>5.017226e+06</td>\n",
              "      <td>217.333333</td>\n",
              "    </tr>\n",
              "    <tr>\n",
              "      <th>186126</th>\n",
              "      <td>기아자동차(주)광주공장</td>\n",
              "      <td>5.012701e+06</td>\n",
              "      <td>6958.000000</td>\n",
              "    </tr>\n",
              "  </tbody>\n",
              "</table>\n",
              "</div>"
            ],
            "text/plain": [
              "                  회사명          인당월급          인원수\n",
              "180065          국회사무처  5.030000e+06   170.500000\n",
              "602212     한국항만물류협회목포  5.029494e+06   278.833333\n",
              "602208     한국항만물류협회군산  5.029378e+06   273.333333\n",
              "602231     한국항만물류협회포항  5.028825e+06   775.666667\n",
              "186127   기아자동차(주)영업본부  5.028403e+06  2766.000000\n",
              "186098     기아(주) 영업본부  5.027800e+06  2745.000000\n",
              "100225      (주)우리금융지주  5.027300e+06   154.833333\n",
              "580641     코리안리재보험(주)  5.025256e+06   392.166667\n",
              "602209     한국항만물류협회당진  5.024952e+06   252.500000\n",
              "602207     한국항만물류협회광양  5.024416e+06   523.166667\n",
              "284        (사) 한국무역협회  5.023767e+06   283.666667\n",
              "602227     한국항만물류협회제주  5.022793e+06   349.000000\n",
              "602211     한국항만물류협회마산  5.018021e+06   283.833333\n",
              "145387  (주)한국씨티은행서울지점  5.017226e+06   217.333333\n",
              "186126   기아자동차(주)광주공장  5.012701e+06  6958.000000"
            ]
          },
          "metadata": {},
          "execution_count": 73
        }
      ]
    },
    {
      "cell_type": "markdown",
      "metadata": {
        "id": "nFklwzK4kCoP"
      },
      "source": [
        "- 임의로 인원수를 100명이상으로 잡고 다시 인당급여로 정렬해보았다\n",
        "- 이제 우리가 아는 기업들이 눈에 보이기 시작한다. 대부분 500만원 이상이다"
      ]
    },
    {
      "cell_type": "code",
      "metadata": {
        "colab": {
          "base_uri": "https://localhost:8080/"
        },
        "id": "3uzqeIBeitDw",
        "outputId": "4bc31948-12f1-463e-f7e3-02c3b2069a30"
      },
      "source": [
        "!pip install pydeck\n",
        "!pip install geopandas\n",
        "\n",
        "MAPBOX_API_KEY = \"pk.eyJ1Ijoia2tzcDk4eSIsImEiOiJja3R3djd2Y2wyZTY3MnVvMXRvc2ZyNjNtIn0.zieEbgcfEPeVEHnyeh7FuQ\"\n",
        "!export MAPBOX_API_KEY\n",
        "\n",
        "import pydeck as pdk\n",
        "import geopandas as gpd"
      ],
      "execution_count": 74,
      "outputs": [
        {
          "output_type": "stream",
          "name": "stdout",
          "text": [
            "Requirement already satisfied: pydeck in /usr/local/lib/python3.7/dist-packages (0.7.0)\n",
            "Requirement already satisfied: numpy>=1.16.4 in /usr/local/lib/python3.7/dist-packages (from pydeck) (1.19.5)\n",
            "Requirement already satisfied: ipykernel>=5.1.2 in /usr/local/lib/python3.7/dist-packages (from pydeck) (6.4.1)\n",
            "Requirement already satisfied: jinja2>=2.10.1 in /usr/local/lib/python3.7/dist-packages (from pydeck) (2.11.3)\n",
            "Requirement already satisfied: traitlets>=4.3.2 in /usr/local/lib/python3.7/dist-packages (from pydeck) (5.1.0)\n",
            "Requirement already satisfied: ipywidgets>=7.0.0 in /usr/local/lib/python3.7/dist-packages (from pydeck) (7.6.5)\n",
            "Requirement already satisfied: ipython-genutils in /usr/local/lib/python3.7/dist-packages (from ipykernel>=5.1.2->pydeck) (0.2.0)\n",
            "Requirement already satisfied: argcomplete>=1.12.3 in /usr/local/lib/python3.7/dist-packages (from ipykernel>=5.1.2->pydeck) (1.12.3)\n",
            "Requirement already satisfied: jupyter-client<8.0 in /usr/local/lib/python3.7/dist-packages (from ipykernel>=5.1.2->pydeck) (5.3.5)\n",
            "Requirement already satisfied: importlib-metadata<5 in /usr/local/lib/python3.7/dist-packages (from ipykernel>=5.1.2->pydeck) (4.8.1)\n",
            "Requirement already satisfied: matplotlib-inline<0.2.0,>=0.1.0 in /usr/local/lib/python3.7/dist-packages (from ipykernel>=5.1.2->pydeck) (0.1.3)\n",
            "Requirement already satisfied: debugpy<2.0,>=1.0.0 in /usr/local/lib/python3.7/dist-packages (from ipykernel>=5.1.2->pydeck) (1.0.0)\n",
            "Requirement already satisfied: tornado<7.0,>=4.2 in /usr/local/lib/python3.7/dist-packages (from ipykernel>=5.1.2->pydeck) (5.1.1)\n",
            "Requirement already satisfied: ipython<8.0,>=7.23.1 in /usr/local/lib/python3.7/dist-packages (from ipykernel>=5.1.2->pydeck) (7.28.0)\n",
            "Requirement already satisfied: typing-extensions>=3.6.4 in /usr/local/lib/python3.7/dist-packages (from importlib-metadata<5->ipykernel>=5.1.2->pydeck) (3.7.4.3)\n",
            "Requirement already satisfied: zipp>=0.5 in /usr/local/lib/python3.7/dist-packages (from importlib-metadata<5->ipykernel>=5.1.2->pydeck) (3.5.0)\n",
            "Requirement already satisfied: decorator in /usr/local/lib/python3.7/dist-packages (from ipython<8.0,>=7.23.1->ipykernel>=5.1.2->pydeck) (4.4.2)\n",
            "Requirement already satisfied: backcall in /usr/local/lib/python3.7/dist-packages (from ipython<8.0,>=7.23.1->ipykernel>=5.1.2->pydeck) (0.2.0)\n",
            "Requirement already satisfied: jedi>=0.16 in /usr/local/lib/python3.7/dist-packages (from ipython<8.0,>=7.23.1->ipykernel>=5.1.2->pydeck) (0.18.0)\n",
            "Requirement already satisfied: prompt-toolkit!=3.0.0,!=3.0.1,<3.1.0,>=2.0.0 in /usr/local/lib/python3.7/dist-packages (from ipython<8.0,>=7.23.1->ipykernel>=5.1.2->pydeck) (3.0.20)\n",
            "Requirement already satisfied: pexpect>4.3 in /usr/local/lib/python3.7/dist-packages (from ipython<8.0,>=7.23.1->ipykernel>=5.1.2->pydeck) (4.8.0)\n",
            "Requirement already satisfied: pygments in /usr/local/lib/python3.7/dist-packages (from ipython<8.0,>=7.23.1->ipykernel>=5.1.2->pydeck) (2.6.1)\n",
            "Requirement already satisfied: setuptools>=18.5 in /usr/local/lib/python3.7/dist-packages (from ipython<8.0,>=7.23.1->ipykernel>=5.1.2->pydeck) (57.4.0)\n",
            "Requirement already satisfied: pickleshare in /usr/local/lib/python3.7/dist-packages (from ipython<8.0,>=7.23.1->ipykernel>=5.1.2->pydeck) (0.7.5)\n",
            "Requirement already satisfied: widgetsnbextension~=3.5.0 in /usr/local/lib/python3.7/dist-packages (from ipywidgets>=7.0.0->pydeck) (3.5.1)\n",
            "Requirement already satisfied: nbformat>=4.2.0 in /usr/local/lib/python3.7/dist-packages (from ipywidgets>=7.0.0->pydeck) (5.1.3)\n",
            "Requirement already satisfied: jupyterlab-widgets>=1.0.0 in /usr/local/lib/python3.7/dist-packages (from ipywidgets>=7.0.0->pydeck) (1.0.2)\n",
            "Requirement already satisfied: parso<0.9.0,>=0.8.0 in /usr/local/lib/python3.7/dist-packages (from jedi>=0.16->ipython<8.0,>=7.23.1->ipykernel>=5.1.2->pydeck) (0.8.2)\n",
            "Requirement already satisfied: MarkupSafe>=0.23 in /usr/local/lib/python3.7/dist-packages (from jinja2>=2.10.1->pydeck) (2.0.1)\n",
            "Requirement already satisfied: jupyter-core>=4.6.0 in /usr/local/lib/python3.7/dist-packages (from jupyter-client<8.0->ipykernel>=5.1.2->pydeck) (4.7.1)\n",
            "Requirement already satisfied: python-dateutil>=2.1 in /usr/local/lib/python3.7/dist-packages (from jupyter-client<8.0->ipykernel>=5.1.2->pydeck) (2.8.2)\n",
            "Requirement already satisfied: pyzmq>=13 in /usr/local/lib/python3.7/dist-packages (from jupyter-client<8.0->ipykernel>=5.1.2->pydeck) (22.3.0)\n",
            "Requirement already satisfied: jsonschema!=2.5.0,>=2.4 in /usr/local/lib/python3.7/dist-packages (from nbformat>=4.2.0->ipywidgets>=7.0.0->pydeck) (2.6.0)\n",
            "Requirement already satisfied: ptyprocess>=0.5 in /usr/local/lib/python3.7/dist-packages (from pexpect>4.3->ipython<8.0,>=7.23.1->ipykernel>=5.1.2->pydeck) (0.7.0)\n",
            "Requirement already satisfied: wcwidth in /usr/local/lib/python3.7/dist-packages (from prompt-toolkit!=3.0.0,!=3.0.1,<3.1.0,>=2.0.0->ipython<8.0,>=7.23.1->ipykernel>=5.1.2->pydeck) (0.2.5)\n",
            "Requirement already satisfied: six>=1.5 in /usr/local/lib/python3.7/dist-packages (from python-dateutil>=2.1->jupyter-client<8.0->ipykernel>=5.1.2->pydeck) (1.15.0)\n",
            "Requirement already satisfied: notebook>=4.4.1 in /usr/local/lib/python3.7/dist-packages (from widgetsnbextension~=3.5.0->ipywidgets>=7.0.0->pydeck) (5.3.1)\n",
            "Requirement already satisfied: nbconvert in /usr/local/lib/python3.7/dist-packages (from notebook>=4.4.1->widgetsnbextension~=3.5.0->ipywidgets>=7.0.0->pydeck) (5.6.1)\n",
            "Requirement already satisfied: Send2Trash in /usr/local/lib/python3.7/dist-packages (from notebook>=4.4.1->widgetsnbextension~=3.5.0->ipywidgets>=7.0.0->pydeck) (1.8.0)\n",
            "Requirement already satisfied: terminado>=0.8.1 in /usr/local/lib/python3.7/dist-packages (from notebook>=4.4.1->widgetsnbextension~=3.5.0->ipywidgets>=7.0.0->pydeck) (0.12.1)\n",
            "Requirement already satisfied: defusedxml in /usr/local/lib/python3.7/dist-packages (from nbconvert->notebook>=4.4.1->widgetsnbextension~=3.5.0->ipywidgets>=7.0.0->pydeck) (0.7.1)\n",
            "Requirement already satisfied: bleach in /usr/local/lib/python3.7/dist-packages (from nbconvert->notebook>=4.4.1->widgetsnbextension~=3.5.0->ipywidgets>=7.0.0->pydeck) (4.1.0)\n",
            "Requirement already satisfied: entrypoints>=0.2.2 in /usr/local/lib/python3.7/dist-packages (from nbconvert->notebook>=4.4.1->widgetsnbextension~=3.5.0->ipywidgets>=7.0.0->pydeck) (0.3)\n",
            "Requirement already satisfied: pandocfilters>=1.4.1 in /usr/local/lib/python3.7/dist-packages (from nbconvert->notebook>=4.4.1->widgetsnbextension~=3.5.0->ipywidgets>=7.0.0->pydeck) (1.5.0)\n",
            "Requirement already satisfied: testpath in /usr/local/lib/python3.7/dist-packages (from nbconvert->notebook>=4.4.1->widgetsnbextension~=3.5.0->ipywidgets>=7.0.0->pydeck) (0.5.0)\n",
            "Requirement already satisfied: mistune<2,>=0.8.1 in /usr/local/lib/python3.7/dist-packages (from nbconvert->notebook>=4.4.1->widgetsnbextension~=3.5.0->ipywidgets>=7.0.0->pydeck) (0.8.4)\n",
            "Requirement already satisfied: packaging in /usr/local/lib/python3.7/dist-packages (from bleach->nbconvert->notebook>=4.4.1->widgetsnbextension~=3.5.0->ipywidgets>=7.0.0->pydeck) (21.0)\n",
            "Requirement already satisfied: webencodings in /usr/local/lib/python3.7/dist-packages (from bleach->nbconvert->notebook>=4.4.1->widgetsnbextension~=3.5.0->ipywidgets>=7.0.0->pydeck) (0.5.1)\n",
            "Requirement already satisfied: pyparsing>=2.0.2 in /usr/local/lib/python3.7/dist-packages (from packaging->bleach->nbconvert->notebook>=4.4.1->widgetsnbextension~=3.5.0->ipywidgets>=7.0.0->pydeck) (2.4.7)\n",
            "Requirement already satisfied: geopandas in /usr/local/lib/python3.7/dist-packages (0.9.0)\n",
            "Requirement already satisfied: shapely>=1.6 in /usr/local/lib/python3.7/dist-packages (from geopandas) (1.7.1)\n",
            "Requirement already satisfied: fiona>=1.8 in /usr/local/lib/python3.7/dist-packages (from geopandas) (1.8.20)\n",
            "Requirement already satisfied: pandas>=0.24.0 in /usr/local/lib/python3.7/dist-packages (from geopandas) (1.1.5)\n",
            "Requirement already satisfied: pyproj>=2.2.0 in /usr/local/lib/python3.7/dist-packages (from geopandas) (3.2.1)\n",
            "Requirement already satisfied: munch in /usr/local/lib/python3.7/dist-packages (from fiona>=1.8->geopandas) (2.5.0)\n",
            "Requirement already satisfied: certifi in /usr/local/lib/python3.7/dist-packages (from fiona>=1.8->geopandas) (2021.5.30)\n",
            "Requirement already satisfied: cligj>=0.5 in /usr/local/lib/python3.7/dist-packages (from fiona>=1.8->geopandas) (0.7.2)\n",
            "Requirement already satisfied: click>=4.0 in /usr/local/lib/python3.7/dist-packages (from fiona>=1.8->geopandas) (7.1.2)\n",
            "Requirement already satisfied: setuptools in /usr/local/lib/python3.7/dist-packages (from fiona>=1.8->geopandas) (57.4.0)\n",
            "Requirement already satisfied: attrs>=17 in /usr/local/lib/python3.7/dist-packages (from fiona>=1.8->geopandas) (21.2.0)\n",
            "Requirement already satisfied: click-plugins>=1.0 in /usr/local/lib/python3.7/dist-packages (from fiona>=1.8->geopandas) (1.1.1)\n",
            "Requirement already satisfied: six>=1.7 in /usr/local/lib/python3.7/dist-packages (from fiona>=1.8->geopandas) (1.15.0)\n",
            "Requirement already satisfied: numpy>=1.15.4 in /usr/local/lib/python3.7/dist-packages (from pandas>=0.24.0->geopandas) (1.19.5)\n",
            "Requirement already satisfied: pytz>=2017.2 in /usr/local/lib/python3.7/dist-packages (from pandas>=0.24.0->geopandas) (2018.9)\n",
            "Requirement already satisfied: python-dateutil>=2.7.3 in /usr/local/lib/python3.7/dist-packages (from pandas>=0.24.0->geopandas) (2.8.2)\n"
          ]
        }
      ]
    },
    {
      "cell_type": "code",
      "metadata": {
        "colab": {
          "base_uri": "https://localhost:8080/",
          "height": 206
        },
        "id": "1CppgGhOn0F8",
        "outputId": "0ec1ffba-3b40-4289-d331-b9fc363dfa05"
      },
      "source": [
        "geo = gpd.read_file('/content/drive/MyDrive/data/대한민국 행정구역/TL_SCCO_EMD.shp', encoding = 'cp949') # 미리 대한민국 행정구역(믑면동) 받음\n",
        "\n",
        "geo = geo.to_crs(epsg = 4326) # 좌표계가 5179로 되어있는듯하다 우리가 아는 위경도로 표시하겠다(4326) \n",
        "geo.head()"
      ],
      "execution_count": 75,
      "outputs": [
        {
          "output_type": "execute_result",
          "data": {
            "text/html": [
              "<div>\n",
              "<style scoped>\n",
              "    .dataframe tbody tr th:only-of-type {\n",
              "        vertical-align: middle;\n",
              "    }\n",
              "\n",
              "    .dataframe tbody tr th {\n",
              "        vertical-align: top;\n",
              "    }\n",
              "\n",
              "    .dataframe thead th {\n",
              "        text-align: right;\n",
              "    }\n",
              "</style>\n",
              "<table border=\"1\" class=\"dataframe\">\n",
              "  <thead>\n",
              "    <tr style=\"text-align: right;\">\n",
              "      <th></th>\n",
              "      <th>EMD_CD</th>\n",
              "      <th>EMD_ENG_NM</th>\n",
              "      <th>EMD_KOR_NM</th>\n",
              "      <th>geometry</th>\n",
              "    </tr>\n",
              "  </thead>\n",
              "  <tbody>\n",
              "    <tr>\n",
              "      <th>0</th>\n",
              "      <td>42110101</td>\n",
              "      <td>Bongui-dong</td>\n",
              "      <td>봉의동</td>\n",
              "      <td>POLYGON ((127.73311 37.88673, 127.73298 37.885...</td>\n",
              "    </tr>\n",
              "    <tr>\n",
              "      <th>1</th>\n",
              "      <td>42110102</td>\n",
              "      <td>Yoseon-dong</td>\n",
              "      <td>요선동</td>\n",
              "      <td>POLYGON ((127.72584 37.88242, 127.72587 37.882...</td>\n",
              "    </tr>\n",
              "    <tr>\n",
              "      <th>2</th>\n",
              "      <td>42110103</td>\n",
              "      <td>Nagwon-dong</td>\n",
              "      <td>낙원동</td>\n",
              "      <td>POLYGON ((127.72327 37.87704, 127.72249 37.876...</td>\n",
              "    </tr>\n",
              "    <tr>\n",
              "      <th>3</th>\n",
              "      <td>42110104</td>\n",
              "      <td>Jungangno 1(il)-ga</td>\n",
              "      <td>중앙로1가</td>\n",
              "      <td>POLYGON ((127.72991 37.88326, 127.72960 37.883...</td>\n",
              "    </tr>\n",
              "    <tr>\n",
              "      <th>4</th>\n",
              "      <td>42110105</td>\n",
              "      <td>Jungangno 2(i)-ga</td>\n",
              "      <td>중앙로2가</td>\n",
              "      <td>POLYGON ((127.72439 37.87755, 127.72430 37.877...</td>\n",
              "    </tr>\n",
              "  </tbody>\n",
              "</table>\n",
              "</div>"
            ],
            "text/plain": [
              "     EMD_CD  ...                                           geometry\n",
              "0  42110101  ...  POLYGON ((127.73311 37.88673, 127.73298 37.885...\n",
              "1  42110102  ...  POLYGON ((127.72584 37.88242, 127.72587 37.882...\n",
              "2  42110103  ...  POLYGON ((127.72327 37.87704, 127.72249 37.876...\n",
              "3  42110104  ...  POLYGON ((127.72991 37.88326, 127.72960 37.883...\n",
              "4  42110105  ...  POLYGON ((127.72439 37.87755, 127.72430 37.877...\n",
              "\n",
              "[5 rows x 4 columns]"
            ]
          },
          "metadata": {},
          "execution_count": 75
        }
      ]
    },
    {
      "cell_type": "markdown",
      "metadata": {
        "id": "OEmStJ6_GTsC"
      },
      "source": [
        "- 지리정보 데이터는 미리 geometry데이터 필요하므로 미리 받아뒀다\n",
        "- Uber에서 제공하는 pydeck 라이브러리를 활용해서 시각화 해볼 예정이다(처음 사용해서 이것저것 해볼 예정)"
      ]
    },
    {
      "cell_type": "code",
      "metadata": {
        "colab": {
          "base_uri": "https://localhost:8080/",
          "height": 206
        },
        "id": "KyczFgOzFANY",
        "outputId": "c8491d2e-6af0-4a21-d95a-d57a7d40eea6"
      },
      "source": [
        "geo.rename(columns ={\n",
        "    'EMD_CD' : '법정동코드'\n",
        "}, inplace = True)\n",
        "\n",
        "읍면동 = []\n",
        "for i in total_data['법정동코드']:\n",
        "  읍면동.append(int(str(i)[:8])) # 현재 가지고 있는 법정동코드는 '리'까지 구분되어있는 코드이다\n",
        "\n",
        "\n",
        "geo['법정동코드'] = geo['법정동코드'].astype('int64')\n",
        "total_data['법정동코드'] = 읍면동\n",
        "\n",
        "total_data = pd.merge(total_data, geo[['EMD_KOR_NM', '법정동코드', 'geometry']], on = '법정동코드', how = 'inner')\n",
        "total_data.head()"
      ],
      "execution_count": 76,
      "outputs": [
        {
          "output_type": "execute_result",
          "data": {
            "text/html": [
              "<div>\n",
              "<style scoped>\n",
              "    .dataframe tbody tr th:only-of-type {\n",
              "        vertical-align: middle;\n",
              "    }\n",
              "\n",
              "    .dataframe tbody tr th {\n",
              "        vertical-align: top;\n",
              "    }\n",
              "\n",
              "    .dataframe thead th {\n",
              "        text-align: right;\n",
              "    }\n",
              "</style>\n",
              "<table border=\"1\" class=\"dataframe\">\n",
              "  <thead>\n",
              "    <tr style=\"text-align: right;\">\n",
              "      <th></th>\n",
              "      <th>기준월</th>\n",
              "      <th>회사명</th>\n",
              "      <th>주소</th>\n",
              "      <th>법정동코드</th>\n",
              "      <th>사업형태</th>\n",
              "      <th>인원수</th>\n",
              "      <th>당월고지금액</th>\n",
              "      <th>신규자수</th>\n",
              "      <th>탈퇴자수</th>\n",
              "      <th>인당월급</th>\n",
              "      <th>EMD_KOR_NM</th>\n",
              "      <th>geometry</th>\n",
              "    </tr>\n",
              "  </thead>\n",
              "  <tbody>\n",
              "    <tr>\n",
              "      <th>0</th>\n",
              "      <td>2021-01</td>\n",
              "      <td>우성기전(주)</td>\n",
              "      <td>경기도 광주시 도척면</td>\n",
              "      <td>41610330</td>\n",
              "      <td>1</td>\n",
              "      <td>5</td>\n",
              "      <td>792720</td>\n",
              "      <td>0</td>\n",
              "      <td>0</td>\n",
              "      <td>1.761600e+06</td>\n",
              "      <td>도척면</td>\n",
              "      <td>POLYGON ((127.27584 37.27429, 127.27592 37.274...</td>\n",
              "    </tr>\n",
              "    <tr>\n",
              "      <th>1</th>\n",
              "      <td>2021-01</td>\n",
              "      <td>삼원정공(주)</td>\n",
              "      <td>경기도 광주시 도척면</td>\n",
              "      <td>41610330</td>\n",
              "      <td>1</td>\n",
              "      <td>101</td>\n",
              "      <td>28384880</td>\n",
              "      <td>0</td>\n",
              "      <td>2</td>\n",
              "      <td>3.122649e+06</td>\n",
              "      <td>도척면</td>\n",
              "      <td>POLYGON ((127.27584 37.27429, 127.27592 37.274...</td>\n",
              "    </tr>\n",
              "    <tr>\n",
              "      <th>2</th>\n",
              "      <td>2021-01</td>\n",
              "      <td>성신우영(주)</td>\n",
              "      <td>경기도 광주시 도척면</td>\n",
              "      <td>41610330</td>\n",
              "      <td>1</td>\n",
              "      <td>5</td>\n",
              "      <td>1165920</td>\n",
              "      <td>0</td>\n",
              "      <td>0</td>\n",
              "      <td>2.590933e+06</td>\n",
              "      <td>도척면</td>\n",
              "      <td>POLYGON ((127.27584 37.27429, 127.27592 37.274...</td>\n",
              "    </tr>\n",
              "    <tr>\n",
              "      <th>3</th>\n",
              "      <td>2021-01</td>\n",
              "      <td>(주)신성</td>\n",
              "      <td>경기도 광주시 도척면</td>\n",
              "      <td>41610330</td>\n",
              "      <td>1</td>\n",
              "      <td>23</td>\n",
              "      <td>6589380</td>\n",
              "      <td>1</td>\n",
              "      <td>1</td>\n",
              "      <td>3.183275e+06</td>\n",
              "      <td>도척면</td>\n",
              "      <td>POLYGON ((127.27584 37.27429, 127.27592 37.274...</td>\n",
              "    </tr>\n",
              "    <tr>\n",
              "      <th>4</th>\n",
              "      <td>2021-01</td>\n",
              "      <td>예일몰딩(주)</td>\n",
              "      <td>경기도 광주시 도척면</td>\n",
              "      <td>41610330</td>\n",
              "      <td>1</td>\n",
              "      <td>8</td>\n",
              "      <td>2304020</td>\n",
              "      <td>0</td>\n",
              "      <td>0</td>\n",
              "      <td>3.200028e+06</td>\n",
              "      <td>도척면</td>\n",
              "      <td>POLYGON ((127.27584 37.27429, 127.27592 37.274...</td>\n",
              "    </tr>\n",
              "  </tbody>\n",
              "</table>\n",
              "</div>"
            ],
            "text/plain": [
              "       기준월  ...                                           geometry\n",
              "0  2021-01  ...  POLYGON ((127.27584 37.27429, 127.27592 37.274...\n",
              "1  2021-01  ...  POLYGON ((127.27584 37.27429, 127.27592 37.274...\n",
              "2  2021-01  ...  POLYGON ((127.27584 37.27429, 127.27592 37.274...\n",
              "3  2021-01  ...  POLYGON ((127.27584 37.27429, 127.27592 37.274...\n",
              "4  2021-01  ...  POLYGON ((127.27584 37.27429, 127.27592 37.274...\n",
              "\n",
              "[5 rows x 12 columns]"
            ]
          },
          "metadata": {},
          "execution_count": 76
        }
      ]
    },
    {
      "cell_type": "code",
      "metadata": {
        "colab": {
          "base_uri": "https://localhost:8080/",
          "height": 355
        },
        "id": "x5CU87XeOIXa",
        "outputId": "856f425a-a064-4237-fb21-873741680747"
      },
      "source": [
        "def multipolygon_to_coordinates(x,i):\n",
        "    lon, lat = x[i].exterior.xy\n",
        "    return [[x, y] for x, y in zip(lon, lat)]\n",
        "\n",
        "#total_data['coordinates'] = total_data['geometry'].apply(multipolygon_to_coordinates)\n",
        "#del total_data['geometry']\n",
        "a = []\n",
        "for w in range(len(total_data)):\n",
        "  b = multipolygon_to_coordinates(total_data['geometry'], w)\n",
        "  a.append(b)"
      ],
      "execution_count": 106,
      "outputs": [
        {
          "output_type": "error",
          "ename": "AttributeError",
          "evalue": "ignored",
          "traceback": [
            "\u001b[0;31m---------------------------------------------------------------------------\u001b[0m",
            "\u001b[0;31mAttributeError\u001b[0m                            Traceback (most recent call last)",
            "\u001b[0;32m/tmp/ipykernel_360/2820270404.py\u001b[0m in \u001b[0;36m<module>\u001b[0;34m\u001b[0m\n\u001b[1;32m      7\u001b[0m \u001b[0ma\u001b[0m \u001b[0;34m=\u001b[0m \u001b[0;34m[\u001b[0m\u001b[0;34m]\u001b[0m\u001b[0;34m\u001b[0m\u001b[0;34m\u001b[0m\u001b[0m\n\u001b[1;32m      8\u001b[0m \u001b[0;32mfor\u001b[0m \u001b[0mw\u001b[0m \u001b[0;32min\u001b[0m \u001b[0mrange\u001b[0m\u001b[0;34m(\u001b[0m\u001b[0mlen\u001b[0m\u001b[0;34m(\u001b[0m\u001b[0mtotal_data\u001b[0m\u001b[0;34m)\u001b[0m\u001b[0;34m)\u001b[0m\u001b[0;34m:\u001b[0m\u001b[0;34m\u001b[0m\u001b[0;34m\u001b[0m\u001b[0m\n\u001b[0;32m----> 9\u001b[0;31m   \u001b[0mb\u001b[0m \u001b[0;34m=\u001b[0m \u001b[0mmultipolygon_to_coordinates\u001b[0m\u001b[0;34m(\u001b[0m\u001b[0mtotal_data\u001b[0m\u001b[0;34m[\u001b[0m\u001b[0;34m'geometry'\u001b[0m\u001b[0;34m]\u001b[0m\u001b[0;34m,\u001b[0m \u001b[0mw\u001b[0m\u001b[0;34m)\u001b[0m\u001b[0;34m\u001b[0m\u001b[0;34m\u001b[0m\u001b[0m\n\u001b[0m\u001b[1;32m     10\u001b[0m   \u001b[0ma\u001b[0m\u001b[0;34m.\u001b[0m\u001b[0mappend\u001b[0m\u001b[0;34m(\u001b[0m\u001b[0mb\u001b[0m\u001b[0;34m)\u001b[0m\u001b[0;34m\u001b[0m\u001b[0;34m\u001b[0m\u001b[0m\n",
            "\u001b[0;32m/tmp/ipykernel_360/2820270404.py\u001b[0m in \u001b[0;36mmultipolygon_to_coordinates\u001b[0;34m(x, i)\u001b[0m\n\u001b[1;32m      1\u001b[0m \u001b[0;32mdef\u001b[0m \u001b[0mmultipolygon_to_coordinates\u001b[0m\u001b[0;34m(\u001b[0m\u001b[0mx\u001b[0m\u001b[0;34m,\u001b[0m\u001b[0mi\u001b[0m\u001b[0;34m)\u001b[0m\u001b[0;34m:\u001b[0m\u001b[0;34m\u001b[0m\u001b[0;34m\u001b[0m\u001b[0m\n\u001b[0;32m----> 2\u001b[0;31m     \u001b[0mlon\u001b[0m\u001b[0;34m,\u001b[0m \u001b[0mlat\u001b[0m \u001b[0;34m=\u001b[0m \u001b[0mx\u001b[0m\u001b[0;34m[\u001b[0m\u001b[0mi\u001b[0m\u001b[0;34m]\u001b[0m\u001b[0;34m.\u001b[0m\u001b[0mexterior\u001b[0m\u001b[0;34m.\u001b[0m\u001b[0mxy\u001b[0m\u001b[0;34m\u001b[0m\u001b[0;34m\u001b[0m\u001b[0m\n\u001b[0m\u001b[1;32m      3\u001b[0m     \u001b[0;32mreturn\u001b[0m \u001b[0;34m[\u001b[0m\u001b[0;34m[\u001b[0m\u001b[0mx\u001b[0m\u001b[0;34m,\u001b[0m \u001b[0my\u001b[0m\u001b[0;34m]\u001b[0m \u001b[0;32mfor\u001b[0m \u001b[0mx\u001b[0m\u001b[0;34m,\u001b[0m \u001b[0my\u001b[0m \u001b[0;32min\u001b[0m \u001b[0mzip\u001b[0m\u001b[0;34m(\u001b[0m\u001b[0mlon\u001b[0m\u001b[0;34m,\u001b[0m \u001b[0mlat\u001b[0m\u001b[0;34m)\u001b[0m\u001b[0;34m]\u001b[0m\u001b[0;34m\u001b[0m\u001b[0;34m\u001b[0m\u001b[0m\n\u001b[1;32m      4\u001b[0m \u001b[0;34m\u001b[0m\u001b[0m\n\u001b[1;32m      5\u001b[0m \u001b[0;31m#total_data['coordinates'] = total_data['geometry'].apply(multipolygon_to_coordinates)\u001b[0m\u001b[0;34m\u001b[0m\u001b[0;34m\u001b[0m\u001b[0;34m\u001b[0m\u001b[0m\n",
            "\u001b[0;31mAttributeError\u001b[0m: 'MultiPolygon' object has no attribute 'exterior'"
          ]
        }
      ]
    },
    {
      "cell_type": "markdown",
      "metadata": {
        "id": "nEL1qevDZCbG"
      },
      "source": [
        "- pydeck은 폴리곤으로 되어있으면 인식을 못한다고 한다\n",
        "  - 연속된 포인트값으로 되어있어야 인식이 된다고 하니 변환해주자\n"
      ]
    },
    {
      "cell_type": "code",
      "metadata": {
        "id": "K_Raf7CDZAeN"
      },
      "source": [
        "geo"
      ],
      "execution_count": null,
      "outputs": []
    },
    {
      "cell_type": "code",
      "metadata": {
        "id": "Cgf2IQAYQtSB"
      },
      "source": [
        ""
      ],
      "execution_count": null,
      "outputs": []
    }
  ]
}